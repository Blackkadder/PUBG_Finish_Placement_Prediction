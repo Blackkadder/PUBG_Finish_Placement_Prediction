{
  "cells": [
    {
      "metadata": {
        "_uuid": "8f2839f25d086af736a60e9eeb907d3b93b6e0e5",
        "_cell_guid": "b1076dfc-b9ad-4769-8c92-a6c4dae69d19",
        "trusted": true
      },
      "cell_type": "code",
      "source": "# This Python 3 environment comes with many helpful analytics libraries installed\n# It is defined by the kaggle/python docker image: https://github.com/kaggle/docker-python\n# For example, here's several helpful packages to load in \n\nimport numpy as np # linear algebra\nimport pandas as pd # data processing, CSV file I/O (e.g. pd.read_csv)\n\n# Input data files are available in the \"../input/\" directory.\n# For example, running this (by clicking run or pressing Shift+Enter) will list the files in the input directory\n\nimport os\nprint(os.listdir(\"../input\"))\n\n# Any results you write to the current directory are saved as output.",
      "execution_count": null,
      "outputs": []
    },
    {
      "metadata": {
        "_cell_guid": "79c7e3d0-c299-4dcb-8224-4455121ee9b0",
        "_uuid": "d629ff2d2480ee46fbb7e2d37f6b5fab8052498a",
        "trusted": true
      },
      "cell_type": "code",
      "source": "# improt training data\ntrain_df = pd.read_csv('../input/train_V2.csv')\ntrain_df.head()",
      "execution_count": null,
      "outputs": []
    },
    {
      "metadata": {
        "trusted": true,
        "_uuid": "3fd420fba4ea82b0dab1083a528e651807dee860"
      },
      "cell_type": "code",
      "source": "# import training data\ntest_df = pd.read_csv('../input/test_V2.csv')\ntest_df.head()",
      "execution_count": null,
      "outputs": []
    },
    {
      "metadata": {
        "trusted": true,
        "_uuid": "24ddcb5f31e48ac6e877ed2a74706b5babab0700"
      },
      "cell_type": "code",
      "source": "train_df.columns",
      "execution_count": null,
      "outputs": []
    },
    {
      "metadata": {
        "trusted": true,
        "_uuid": "b6f6f1e906317bdb6cebf1bff0997234aefd8b5d"
      },
      "cell_type": "code",
      "source": "# feaature engineering\ncontinuous_features = ['assists', 'boosts', 'damageDealt', 'DBNOs',\n       'headshotKills', 'heals', 'killPlace', 'killPoints', 'kills',\n       'killStreaks', 'longestKill', 'matchDuration', 'matchType', 'maxPlace',\n       'numGroups', 'rankPoints', 'revives', 'rideDistance', 'roadKills',\n       'swimDistance', 'teamKills', 'vehicleDestroys', 'walkDistance',\n       'weaponsAcquired', 'winPoints']",
      "execution_count": null,
      "outputs": []
    },
    {
      "metadata": {
        "trusted": true,
        "_uuid": "993a7174372fed3d6be6d5806ba33ec2d7449609"
      },
      "cell_type": "code",
      "source": "#check for nulls in features\ntrain_df[continuous_features].isnull().sum().sum()",
      "execution_count": null,
      "outputs": []
    },
    {
      "metadata": {
        "trusted": true,
        "_uuid": "b2a649ec144db1c8b6b8d9a6fa570c45ff40258d"
      },
      "cell_type": "code",
      "source": "#check for nulls in Y\ntrain_df['winPlacePerc'].isnull().sum().sum()",
      "execution_count": null,
      "outputs": []
    },
    {
      "metadata": {
        "trusted": true,
        "_uuid": "172f943654cf53dac9525574c527711379a72591"
      },
      "cell_type": "code",
      "source": "train_df.dropna(axis=1)",
      "execution_count": null,
      "outputs": []
    },
    {
      "metadata": {
        "_uuid": "f79e2592f8b0e4c5615cb72ef82e4c8ad4e2fcbb"
      },
      "cell_type": "markdown",
      "source": "> One value missing - need to remove"
    },
    {
      "metadata": {
        "trusted": true,
        "_uuid": "8c61fb2411f2689c842a5ebd86f842ef15d29323"
      },
      "cell_type": "code",
      "source": "train_df_adj = train_df[~train_df['winPlacePerc'].isin([np.nan])]\ntrain_df_adj['winPlacePerc'].isnull().sum().sum()",
      "execution_count": null,
      "outputs": []
    },
    {
      "metadata": {
        "trusted": true,
        "_uuid": "c830e25fb6735f623557a8cd30780739f122ee16"
      },
      "cell_type": "code",
      "source": "#training\nfrom keras.models import Sequential\nfrom keras.layers import Dense, Dropout, Activation\nfrom keras.optimizers import SGD",
      "execution_count": null,
      "outputs": []
    },
    {
      "metadata": {
        "trusted": true,
        "_uuid": "12b80334be05866f6570369792af951e336ba73d"
      },
      "cell_type": "code",
      "source": "",
      "execution_count": null,
      "outputs": []
    }
  ],
  "metadata": {
    "kernelspec": {
      "display_name": "Python 3",
      "language": "python",
      "name": "python3"
    },
    "language_info": {
      "name": "python",
      "version": "3.6.6",
      "mimetype": "text/x-python",
      "codemirror_mode": {
        "name": "ipython",
        "version": 3
      },
      "pygments_lexer": "ipython3",
      "nbconvert_exporter": "python",
      "file_extension": ".py"
    }
  },
  "nbformat": 4,
  "nbformat_minor": 1
}